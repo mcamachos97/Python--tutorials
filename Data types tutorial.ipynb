{
 "cells": [
  {
   "cell_type": "markdown",
   "id": "61d6dfcc",
   "metadata": {},
   "source": [
    "# Data types"
   ]
  },
  {
   "cell_type": "markdown",
   "id": "d5568a6f",
   "metadata": {},
   "source": [
    "## Numericos"
   ]
  },
  {
   "cell_type": "code",
   "execution_count": 1,
   "id": "e8e7f6fe",
   "metadata": {},
   "outputs": [
    {
     "data": {
      "text/plain": [
       "int"
      ]
     },
     "execution_count": 1,
     "metadata": {},
     "output_type": "execute_result"
    }
   ],
   "source": [
    "type (25 +87 +65 +9)"
   ]
  },
  {
   "cell_type": "code",
   "execution_count": 2,
   "id": "663c8db7",
   "metadata": {},
   "outputs": [
    {
     "data": {
      "text/plain": [
       "float"
      ]
     },
     "execution_count": 2,
     "metadata": {},
     "output_type": "execute_result"
    }
   ],
   "source": [
    "type (25 +87 +65.87)"
   ]
  },
  {
   "cell_type": "code",
   "execution_count": 5,
   "id": "11da3c76",
   "metadata": {},
   "outputs": [
    {
     "data": {
      "text/plain": [
       "complex"
      ]
     },
     "execution_count": 5,
     "metadata": {},
     "output_type": "execute_result"
    }
   ],
   "source": [
    "# solo la letra j funciona para numeros complejos\n",
    "type (25 +87j)"
   ]
  },
  {
   "cell_type": "markdown",
   "id": "aaac91b3",
   "metadata": {},
   "source": [
    "## Booleanos"
   ]
  },
  {
   "cell_type": "code",
   "execution_count": 6,
   "id": "77e5eb21",
   "metadata": {},
   "outputs": [
    {
     "data": {
      "text/plain": [
       "bool"
      ]
     },
     "execution_count": 6,
     "metadata": {},
     "output_type": "execute_result"
    }
   ],
   "source": [
    "# Boolean\n",
    "\n",
    "type (False)"
   ]
  },
  {
   "cell_type": "code",
   "execution_count": 7,
   "id": "e6edf68c",
   "metadata": {},
   "outputs": [
    {
     "data": {
      "text/plain": [
       "bool"
      ]
     },
     "execution_count": 7,
     "metadata": {},
     "output_type": "execute_result"
    }
   ],
   "source": [
    "type (3 < 10)"
   ]
  },
  {
   "cell_type": "code",
   "execution_count": 8,
   "id": "7c5f0d05",
   "metadata": {},
   "outputs": [
    {
     "data": {
      "text/plain": [
       "False"
      ]
     },
     "execution_count": 8,
     "metadata": {},
     "output_type": "execute_result"
    }
   ],
   "source": [
    "3 < 1"
   ]
  },
  {
   "cell_type": "code",
   "execution_count": 10,
   "id": "844ff086",
   "metadata": {},
   "outputs": [
    {
     "data": {
      "text/plain": [
       "True"
      ]
     },
     "execution_count": 10,
     "metadata": {},
     "output_type": "execute_result"
    }
   ],
   "source": [
    "1 == 1"
   ]
  },
  {
   "cell_type": "markdown",
   "id": "fb35ada7",
   "metadata": {},
   "source": [
    "## Strings"
   ]
  },
  {
   "cell_type": "code",
   "execution_count": 12,
   "id": "9692ebb2",
   "metadata": {},
   "outputs": [
    {
     "data": {
      "text/plain": [
       "'Single quote'"
      ]
     },
     "execution_count": 12,
     "metadata": {},
     "output_type": "execute_result"
    }
   ],
   "source": [
    "# strings\n",
    "'Single quote'\n",
    "\n",
    "\n",
    "\n"
   ]
  },
  {
   "cell_type": "code",
   "execution_count": 13,
   "id": "f04e637b",
   "metadata": {},
   "outputs": [
    {
     "data": {
      "text/plain": [
       "'Double quote'"
      ]
     },
     "execution_count": 13,
     "metadata": {},
     "output_type": "execute_result"
    }
   ],
   "source": [
    "\"Double quote\""
   ]
  },
  {
   "cell_type": "code",
   "execution_count": 15,
   "id": "401b2faa",
   "metadata": {},
   "outputs": [
    {
     "name": "stdout",
     "output_type": "stream",
     "text": [
      "\n",
      "Marcus Mariota es el mejor Qb,\n",
      "de la NFl, y va a ganarme el \n",
      "fantasy este año\n",
      "\n"
     ]
    }
   ],
   "source": [
    "multilinea = \"\"\"\n",
    "Marcus Mariota es el mejor Qb,\n",
    "de la NFl, y va a ganarme el \n",
    "fantasy este año\n",
    "\"\"\"\n",
    "print(multilinea)"
   ]
  },
  {
   "cell_type": "code",
   "execution_count": 16,
   "id": "0f861995",
   "metadata": {},
   "outputs": [
    {
     "data": {
      "text/plain": [
       "str"
      ]
     },
     "execution_count": 16,
     "metadata": {},
     "output_type": "execute_result"
    }
   ],
   "source": [
    "type(multilinea)"
   ]
  },
  {
   "cell_type": "code",
   "execution_count": 21,
   "id": "aa1b8504",
   "metadata": {},
   "outputs": [
    {
     "name": "stdout",
     "output_type": "stream",
     "text": [
      "Hola\n",
      "m\n"
     ]
    }
   ],
   "source": [
    "a = \" Hola mundo!\"\n",
    "print (a[:4])\n",
    "print (a[5])"
   ]
  },
  {
   "cell_type": "code",
   "execution_count": 22,
   "id": "9a2e1a1d",
   "metadata": {},
   "outputs": [
    {
     "data": {
      "text/plain": [
       "'Hola mundo!Hola mundo!Hola mundo!'"
      ]
     },
     "execution_count": 22,
     "metadata": {},
     "output_type": "execute_result"
    }
   ],
   "source": [
    "a*3"
   ]
  },
  {
   "cell_type": "code",
   "execution_count": 23,
   "id": "48fc5bc1",
   "metadata": {},
   "outputs": [
    {
     "data": {
      "text/plain": [
       "'Hola mundo!Hola mundo!'"
      ]
     },
     "execution_count": 23,
     "metadata": {},
     "output_type": "execute_result"
    }
   ],
   "source": [
    "a+a"
   ]
  },
  {
   "cell_type": "markdown",
   "id": "bec527af",
   "metadata": {},
   "source": [
    "## Listas"
   ]
  },
  {
   "cell_type": "code",
   "execution_count": 24,
   "id": "23ae74ec",
   "metadata": {},
   "outputs": [
    {
     "data": {
      "text/plain": [
       "[1, 2, 3]"
      ]
     },
     "execution_count": 24,
     "metadata": {},
     "output_type": "execute_result"
    }
   ],
   "source": [
    "# List\n",
    "\n",
    "[1,2,3]"
   ]
  },
  {
   "cell_type": "code",
   "execution_count": 25,
   "id": "5b434156",
   "metadata": {},
   "outputs": [
    {
     "data": {
      "text/plain": [
       "['coca cola', '7 up', 'fanta']"
      ]
     },
     "execution_count": 25,
     "metadata": {},
     "output_type": "execute_result"
    }
   ],
   "source": [
    "[\"coca cola\",\"7 up\",\"fanta\"]"
   ]
  },
  {
   "cell_type": "code",
   "execution_count": 26,
   "id": "d87f2d95",
   "metadata": {},
   "outputs": [
    {
     "data": {
      "text/plain": [
       "['coca cola', 5, ['xbox', 'PS5'], True]"
      ]
     },
     "execution_count": 26,
     "metadata": {},
     "output_type": "execute_result"
    }
   ],
   "source": [
    "[\"coca cola\",5,[\"xbox\",\"PS5\"],True]"
   ]
  },
  {
   "cell_type": "code",
   "execution_count": 27,
   "id": "23031480",
   "metadata": {},
   "outputs": [
    {
     "data": {
      "text/plain": [
       "['coca cola', '7 up', 'fanta', 'squirt']"
      ]
     },
     "execution_count": 27,
     "metadata": {},
     "output_type": "execute_result"
    }
   ],
   "source": [
    "# append agrega elementos a una lista\n",
    "\n",
    "Refrescos = [\"coca cola\",\"7 up\",\"fanta\"]\n",
    "Refrescos.append (\"squirt\")\n",
    "Refrescos"
   ]
  },
  {
   "cell_type": "code",
   "execution_count": 28,
   "id": "5c50d1a0",
   "metadata": {},
   "outputs": [
    {
     "data": {
      "text/plain": [
       "['pepsi', '7 up', 'fanta', 'squirt']"
      ]
     },
     "execution_count": 28,
     "metadata": {},
     "output_type": "execute_result"
    }
   ],
   "source": [
    "# [] cambiar elementos de una lista en cierta posicion \n",
    "\n",
    "Refrescos[0] = \"pepsi\"\n",
    "Refrescos"
   ]
  },
  {
   "cell_type": "code",
   "execution_count": 36,
   "id": "f52e8fc9",
   "metadata": {},
   "outputs": [
    {
     "data": {
      "text/plain": [
       "'coca cola'"
      ]
     },
     "execution_count": 36,
     "metadata": {},
     "output_type": "execute_result"
    }
   ],
   "source": [
    "# nest list son listas dentro de listas\n",
    "\n",
    "nest_list = [\"coca cola\",5,[\"xbox\",\"PS5\"],True]\n",
    "\n",
    "nest_list[0]\n"
   ]
  },
  {
   "cell_type": "code",
   "execution_count": 34,
   "id": "b8597330",
   "metadata": {},
   "outputs": [
    {
     "data": {
      "text/plain": [
       "'xbox'"
      ]
     },
     "execution_count": 34,
     "metadata": {},
     "output_type": "execute_result"
    }
   ],
   "source": [
    "nest_list[2][0]"
   ]
  },
  {
   "cell_type": "markdown",
   "id": "ab14cb51",
   "metadata": {},
   "source": [
    "## Tuples"
   ]
  },
  {
   "cell_type": "code",
   "execution_count": 37,
   "id": "3d6de622",
   "metadata": {},
   "outputs": [],
   "source": [
    "# Tuple no se pueden modificar una vez creados\n",
    "\n",
    "tuple_scoops = (1,2,3,2,1)"
   ]
  },
  {
   "cell_type": "code",
   "execution_count": 38,
   "id": "d9e3af1a",
   "metadata": {},
   "outputs": [
    {
     "data": {
      "text/plain": [
       "tuple"
      ]
     },
     "execution_count": 38,
     "metadata": {},
     "output_type": "execute_result"
    }
   ],
   "source": [
    "type(tuple_scoops)"
   ]
  },
  {
   "cell_type": "code",
   "execution_count": 39,
   "id": "748ca56f",
   "metadata": {},
   "outputs": [
    {
     "data": {
      "text/plain": [
       "1"
      ]
     },
     "execution_count": 39,
     "metadata": {},
     "output_type": "execute_result"
    }
   ],
   "source": [
    "tuple_scoops[0]"
   ]
  },
  {
   "cell_type": "code",
   "execution_count": 40,
   "id": "bb4cc791",
   "metadata": {},
   "outputs": [
    {
     "ename": "AttributeError",
     "evalue": "'tuple' object has no attribute 'append'",
     "output_type": "error",
     "traceback": [
      "\u001b[0;31m---------------------------------------------------------------------------\u001b[0m",
      "\u001b[0;31mAttributeError\u001b[0m                            Traceback (most recent call last)",
      "\u001b[0;32m/var/folders/d0/4ngns4x93717gs85yt5cmss40000gn/T/ipykernel_19292/1041074776.py\u001b[0m in \u001b[0;36m<module>\u001b[0;34m\u001b[0m\n\u001b[0;32m----> 1\u001b[0;31m \u001b[0mtuple_scoops\u001b[0m\u001b[0;34m.\u001b[0m\u001b[0mappend\u001b[0m\u001b[0;34m[\u001b[0m\u001b[0;36m3\u001b[0m\u001b[0;34m]\u001b[0m\u001b[0;34m\u001b[0m\u001b[0;34m\u001b[0m\u001b[0m\n\u001b[0m",
      "\u001b[0;31mAttributeError\u001b[0m: 'tuple' object has no attribute 'append'"
     ]
    }
   ],
   "source": [
    "tuple_scoops.append[3]"
   ]
  },
  {
   "cell_type": "markdown",
   "id": "205ae4f1",
   "metadata": {},
   "source": [
    "## Sets"
   ]
  },
  {
   "cell_type": "code",
   "execution_count": 42,
   "id": "154b68e3",
   "metadata": {},
   "outputs": [
    {
     "name": "stdout",
     "output_type": "stream",
     "text": [
      "{1, 2, 3, 4}\n"
     ]
    },
    {
     "data": {
      "text/plain": [
       "set"
      ]
     },
     "execution_count": 42,
     "metadata": {},
     "output_type": "execute_result"
    }
   ],
   "source": [
    "# sets no muestra valores repetidos\n",
    "\n",
    "daily_pints = {1,2,3,4}\n",
    "print(daily_pints)\n",
    "type(daily_pints)"
   ]
  },
  {
   "cell_type": "code",
   "execution_count": 44,
   "id": "83709379",
   "metadata": {},
   "outputs": [
    {
     "name": "stdout",
     "output_type": "stream",
     "text": [
      "{1, 3, 6, 8, 31}\n"
     ]
    }
   ],
   "source": [
    "daily_pints_log = {1,3,8,6,6,8,31,1}\n",
    "print(daily_pints_log)"
   ]
  },
  {
   "cell_type": "code",
   "execution_count": 45,
   "id": "4a01b94c",
   "metadata": {},
   "outputs": [],
   "source": [
    "wifes_daily_pints_log = {1,2,3,6,7,87,32,1,9}"
   ]
  },
  {
   "cell_type": "code",
   "execution_count": 46,
   "id": "c693e88c",
   "metadata": {},
   "outputs": [
    {
     "name": "stdout",
     "output_type": "stream",
     "text": [
      "{32, 1, 2, 3, 6, 7, 8, 9, 87, 31}\n",
      "{1, 3, 6}\n"
     ]
    }
   ],
   "source": [
    "# combinar sets con | muestra los elementos unicos de ambos y & muestra elementos que existen ambos\n",
    "\n",
    "print(wifes_daily_pints_log | daily_pints_log)\n",
    "\n",
    "print(wifes_daily_pints_log & daily_pints_log)"
   ]
  },
  {
   "cell_type": "code",
   "execution_count": 48,
   "id": "c8a85174",
   "metadata": {},
   "outputs": [
    {
     "name": "stdout",
     "output_type": "stream",
     "text": [
      "{32, 2, 7, 9, 87}\n",
      "{8, 31}\n"
     ]
    }
   ],
   "source": [
    "print(wifes_daily_pints_log - daily_pints_log)\n",
    "print(daily_pints_log - wifes_daily_pints_log)"
   ]
  },
  {
   "cell_type": "markdown",
   "id": "d3659460",
   "metadata": {},
   "source": [
    "## Diccionarios"
   ]
  },
  {
   "cell_type": "code",
   "execution_count": 50,
   "id": "d1298d20",
   "metadata": {},
   "outputs": [],
   "source": [
    "# dictionaries\n",
    "# key/Value Pair\n",
    "\n",
    "dict_pizza = {\"nombre\": \"Miguel Camacho\", \"Rebanadas\" : 4, \"pizzas favoritas\" : [\"pepperoni\", \"hawaina\"]}"
   ]
  },
  {
   "cell_type": "code",
   "execution_count": 51,
   "id": "2baefd85",
   "metadata": {},
   "outputs": [
    {
     "data": {
      "text/plain": [
       "dict"
      ]
     },
     "execution_count": 51,
     "metadata": {},
     "output_type": "execute_result"
    }
   ],
   "source": [
    "type(dict_pizza)"
   ]
  },
  {
   "cell_type": "code",
   "execution_count": 52,
   "id": "c26a1b3e",
   "metadata": {},
   "outputs": [
    {
     "name": "stdout",
     "output_type": "stream",
     "text": [
      "{'nombre': 'Miguel Camacho', 'Rebanadas': 4, 'pizzas favoritas': ['pepperoni', 'hawaina']}\n"
     ]
    }
   ],
   "source": [
    "print(dict_pizza)"
   ]
  },
  {
   "cell_type": "code",
   "execution_count": 53,
   "id": "6187dfaf",
   "metadata": {},
   "outputs": [
    {
     "data": {
      "text/plain": [
       "dict_values(['Miguel Camacho', 4, ['pepperoni', 'hawaina']])"
      ]
     },
     "execution_count": 53,
     "metadata": {},
     "output_type": "execute_result"
    }
   ],
   "source": [
    "dict_pizza.values()"
   ]
  },
  {
   "cell_type": "code",
   "execution_count": 54,
   "id": "15f84ec4",
   "metadata": {},
   "outputs": [
    {
     "data": {
      "text/plain": [
       "dict_keys(['nombre', 'Rebanadas', 'pizzas favoritas'])"
      ]
     },
     "execution_count": 54,
     "metadata": {},
     "output_type": "execute_result"
    }
   ],
   "source": [
    "dict_pizza.keys()"
   ]
  },
  {
   "cell_type": "code",
   "execution_count": 55,
   "id": "92f18688",
   "metadata": {},
   "outputs": [
    {
     "data": {
      "text/plain": [
       "dict_items([('nombre', 'Miguel Camacho'), ('Rebanadas', 4), ('pizzas favoritas', ['pepperoni', 'hawaina'])])"
      ]
     },
     "execution_count": 55,
     "metadata": {},
     "output_type": "execute_result"
    }
   ],
   "source": [
    "dict_pizza.items()"
   ]
  },
  {
   "cell_type": "code",
   "execution_count": 56,
   "id": "4c7d387a",
   "metadata": {},
   "outputs": [
    {
     "data": {
      "text/plain": [
       "'Miguel Camacho'"
      ]
     },
     "execution_count": 56,
     "metadata": {},
     "output_type": "execute_result"
    }
   ],
   "source": [
    "dict_pizza[\"nombre\"]"
   ]
  },
  {
   "cell_type": "code",
   "execution_count": 61,
   "id": "67c0e00c",
   "metadata": {},
   "outputs": [
    {
     "name": "stdout",
     "output_type": "stream",
     "text": [
      "{'nombre': 'Miguel Camacho', 'Rebanadas': 6, 'pizzas favoritas': ['pepperoni', 'hawaina'], 'peso': 84}\n"
     ]
    }
   ],
   "source": [
    "dict_pizza.update({\"nombre\": \"Miguel Camacho\", \"Rebanadas\" : 6, \"peso\" : 84})\n",
    "print(dict_pizza)"
   ]
  },
  {
   "cell_type": "code",
   "execution_count": 62,
   "id": "470852e7",
   "metadata": {},
   "outputs": [
    {
     "name": "stdout",
     "output_type": "stream",
     "text": [
      "{'nombre': 'Miguel Camacho', 'Rebanadas': 6, 'pizzas favoritas': ['pepperoni', 'hawaina']}\n"
     ]
    }
   ],
   "source": [
    "del dict_pizza [\"peso\"]\n",
    "print(dict_pizza)"
   ]
  }
 ],
 "metadata": {
  "kernelspec": {
   "display_name": "Python 3 (ipykernel)",
   "language": "python",
   "name": "python3"
  },
  "language_info": {
   "codemirror_mode": {
    "name": "ipython",
    "version": 3
   },
   "file_extension": ".py",
   "mimetype": "text/x-python",
   "name": "python",
   "nbconvert_exporter": "python",
   "pygments_lexer": "ipython3",
   "version": "3.9.13"
  }
 },
 "nbformat": 4,
 "nbformat_minor": 5
}
