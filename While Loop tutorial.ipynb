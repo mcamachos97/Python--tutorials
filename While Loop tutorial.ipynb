{
 "cells": [
  {
   "cell_type": "markdown",
   "id": "e7fb0745",
   "metadata": {},
   "source": [
    "# While Loops"
   ]
  },
  {
   "cell_type": "code",
   "execution_count": 1,
   "id": "c10ace04",
   "metadata": {},
   "outputs": [
    {
     "name": "stdout",
     "output_type": "stream",
     "text": [
      "0\n",
      "1\n",
      "2\n",
      "3\n",
      "4\n",
      "5\n"
     ]
    }
   ],
   "source": [
    "num = 0\n",
    "\n",
    "while num <= 5:\n",
    "    print(num)\n",
    "    num= num + 1"
   ]
  },
  {
   "cell_type": "code",
   "execution_count": 2,
   "id": "7eac50d7",
   "metadata": {},
   "outputs": [
    {
     "name": "stdout",
     "output_type": "stream",
     "text": [
      "0\n",
      "1\n",
      "2\n",
      "3\n"
     ]
    }
   ],
   "source": [
    "num = 0\n",
    "\n",
    "while num <= 5:\n",
    "    print(num)\n",
    "    if num == 3:\n",
    "        break\n",
    "    num= num + 1"
   ]
  },
  {
   "cell_type": "code",
   "execution_count": 3,
   "id": "9e14d723",
   "metadata": {},
   "outputs": [
    {
     "name": "stdout",
     "output_type": "stream",
     "text": [
      "0\n",
      "1\n",
      "2\n",
      "3\n",
      "4\n",
      "5\n",
      "6\n",
      "7\n",
      "8\n",
      "9\n",
      "El numero es mayor a 9\n"
     ]
    }
   ],
   "source": [
    "num = 0\n",
    "\n",
    "while num <= 9:\n",
    "    print(num)\n",
    "    if num ==10:\n",
    "        break\n",
    "    num= num + 1\n",
    "else:\n",
    "    print('El numero es mayor a 9')"
   ]
  },
  {
   "cell_type": "code",
   "execution_count": 20,
   "id": "8b962020",
   "metadata": {},
   "outputs": [
    {
     "name": "stdout",
     "output_type": "stream",
     "text": [
      "1\n",
      "2\n",
      "3\n",
      "4\n",
      "5\n",
      "6\n",
      "8\n",
      "9\n",
      "El numero es mayor a 9\n"
     ]
    }
   ],
   "source": [
    "num = 0\n",
    "\n",
    "while num < 9:\n",
    "    num = num + 1\n",
    "    if num == 7:\n",
    "        continue\n",
    "    print(num)\n",
    "     \n",
    "else:\n",
    "    print('El numero es mayor a 9')"
   ]
  },
  {
   "cell_type": "code",
   "execution_count": null,
   "id": "a4e76336",
   "metadata": {},
   "outputs": [],
   "source": []
  },
  {
   "cell_type": "code",
   "execution_count": null,
   "id": "a5a3ffbb",
   "metadata": {},
   "outputs": [],
   "source": []
  }
 ],
 "metadata": {
  "kernelspec": {
   "display_name": "Python 3 (ipykernel)",
   "language": "python",
   "name": "python3"
  },
  "language_info": {
   "codemirror_mode": {
    "name": "ipython",
    "version": 3
   },
   "file_extension": ".py",
   "mimetype": "text/x-python",
   "name": "python",
   "nbconvert_exporter": "python",
   "pygments_lexer": "ipython3",
   "version": "3.9.13"
  }
 },
 "nbformat": 4,
 "nbformat_minor": 5
}
