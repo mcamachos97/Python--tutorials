{
 "cells": [
  {
   "cell_type": "markdown",
   "id": "1aa49b3f",
   "metadata": {},
   "source": [
    "# Functions"
   ]
  },
  {
   "cell_type": "code",
   "execution_count": 1,
   "id": "a623bbb6",
   "metadata": {},
   "outputs": [],
   "source": [
    "def first_func():\n",
    "    print('Se logró')"
   ]
  },
  {
   "cell_type": "code",
   "execution_count": 3,
   "id": "51ba2394",
   "metadata": {},
   "outputs": [
    {
     "name": "stdout",
     "output_type": "stream",
     "text": [
      "Se logró\n"
     ]
    }
   ],
   "source": [
    "first_func()"
   ]
  },
  {
   "cell_type": "code",
   "execution_count": 8,
   "id": "18489edb",
   "metadata": {},
   "outputs": [],
   "source": [
    "def numero_cuadrado(num):\n",
    "    print(num **2)"
   ]
  },
  {
   "cell_type": "code",
   "execution_count": 9,
   "id": "31f9261b",
   "metadata": {},
   "outputs": [
    {
     "name": "stdout",
     "output_type": "stream",
     "text": [
      "169\n"
     ]
    }
   ],
   "source": [
    "numero_cuadrado(13)"
   ]
  },
  {
   "cell_type": "code",
   "execution_count": 10,
   "id": "cc739f8a",
   "metadata": {},
   "outputs": [],
   "source": [
    "def numero_cuadrado_cust(num,potencia):\n",
    "    print(num **potencia)"
   ]
  },
  {
   "cell_type": "code",
   "execution_count": 14,
   "id": "bc652a77",
   "metadata": {},
   "outputs": [
    {
     "name": "stdout",
     "output_type": "stream",
     "text": [
      "512\n"
     ]
    }
   ],
   "source": [
    "numero_cuadrado_cust(2,9)"
   ]
  },
  {
   "cell_type": "code",
   "execution_count": 21,
   "id": "c9ed07d7",
   "metadata": {},
   "outputs": [],
   "source": [
    "num_args = [6,5,8,9]\n",
    "\n",
    "def number_args(*num):\n",
    "    print(num[0]*num[1])"
   ]
  },
  {
   "cell_type": "code",
   "execution_count": 22,
   "id": "497f1cff",
   "metadata": {},
   "outputs": [
    {
     "ename": "IndexError",
     "evalue": "tuple index out of range",
     "output_type": "error",
     "traceback": [
      "\u001b[0;31m---------------------------------------------------------------------------\u001b[0m",
      "\u001b[0;31mIndexError\u001b[0m                                Traceback (most recent call last)",
      "\u001b[0;32m/var/folders/d0/4ngns4x93717gs85yt5cmss40000gn/T/ipykernel_59448/1545833145.py\u001b[0m in \u001b[0;36m<module>\u001b[0;34m\u001b[0m\n\u001b[0;32m----> 1\u001b[0;31m \u001b[0mnumber_args\u001b[0m\u001b[0;34m(\u001b[0m\u001b[0mnum_args\u001b[0m\u001b[0;34m)\u001b[0m\u001b[0;34m\u001b[0m\u001b[0;34m\u001b[0m\u001b[0m\n\u001b[0m",
      "\u001b[0;32m/var/folders/d0/4ngns4x93717gs85yt5cmss40000gn/T/ipykernel_59448/4149959013.py\u001b[0m in \u001b[0;36mnumber_args\u001b[0;34m(*num)\u001b[0m\n\u001b[1;32m      2\u001b[0m \u001b[0;34m\u001b[0m\u001b[0m\n\u001b[1;32m      3\u001b[0m \u001b[0;32mdef\u001b[0m \u001b[0mnumber_args\u001b[0m\u001b[0;34m(\u001b[0m\u001b[0;34m*\u001b[0m\u001b[0mnum\u001b[0m\u001b[0;34m)\u001b[0m\u001b[0;34m:\u001b[0m\u001b[0;34m\u001b[0m\u001b[0;34m\u001b[0m\u001b[0m\n\u001b[0;32m----> 4\u001b[0;31m     \u001b[0mprint\u001b[0m\u001b[0;34m(\u001b[0m\u001b[0mnum\u001b[0m\u001b[0;34m[\u001b[0m\u001b[0;36m0\u001b[0m\u001b[0;34m]\u001b[0m\u001b[0;34m*\u001b[0m\u001b[0mnum\u001b[0m\u001b[0;34m[\u001b[0m\u001b[0;36m1\u001b[0m\u001b[0;34m]\u001b[0m\u001b[0;34m)\u001b[0m\u001b[0;34m\u001b[0m\u001b[0;34m\u001b[0m\u001b[0m\n\u001b[0m",
      "\u001b[0;31mIndexError\u001b[0m: tuple index out of range"
     ]
    }
   ],
   "source": [
    "number_args(num_args)"
   ]
  },
  {
   "cell_type": "code",
   "execution_count": null,
   "id": "f24c9e77",
   "metadata": {},
   "outputs": [],
   "source": [
    "num_args = [6,5,8,9]\n",
    "\n",
    "def number_args(*num):\n",
    "    print(num[0]*num[1])"
   ]
  },
  {
   "cell_type": "code",
   "execution_count": 23,
   "id": "d3559921",
   "metadata": {},
   "outputs": [
    {
     "name": "stdout",
     "output_type": "stream",
     "text": [
      "30\n"
     ]
    }
   ],
   "source": [
    "number_args(*num_args)"
   ]
  },
  {
   "cell_type": "markdown",
   "id": "21350710",
   "metadata": {},
   "source": [
    "## keyword argument"
   ]
  },
  {
   "cell_type": "code",
   "execution_count": 24,
   "id": "b4329403",
   "metadata": {},
   "outputs": [],
   "source": [
    "def numero_cuadrado_cust(num,potencia):\n",
    "    print(num **potencia)"
   ]
  },
  {
   "cell_type": "code",
   "execution_count": 25,
   "id": "a194dc70",
   "metadata": {},
   "outputs": [
    {
     "name": "stdout",
     "output_type": "stream",
     "text": [
      "81\n"
     ]
    }
   ],
   "source": [
    "numero_cuadrado_cust(potencia = 2,num= 9)"
   ]
  },
  {
   "cell_type": "code",
   "execution_count": 38,
   "id": "5e9f8111",
   "metadata": {},
   "outputs": [],
   "source": [
    "def numero_kwarg(**numero):\n",
    "    print('Mi numero es' + '  ' + numero['entero'] + '  ' + 'Mi otro numero es' +'  ' + numero['entero2'])"
   ]
  },
  {
   "cell_type": "code",
   "execution_count": 39,
   "id": "eb9912d0",
   "metadata": {},
   "outputs": [
    {
     "name": "stdout",
     "output_type": "stream",
     "text": [
      "Mi numero es  3456  Mi otro numero es  2788\n"
     ]
    }
   ],
   "source": [
    "numero_kwarg(entero = '3456', entero2 = '2788')"
   ]
  },
  {
   "cell_type": "code",
   "execution_count": null,
   "id": "3ba5d1c0",
   "metadata": {},
   "outputs": [],
   "source": []
  },
  {
   "cell_type": "code",
   "execution_count": null,
   "id": "2ec61f90",
   "metadata": {},
   "outputs": [],
   "source": []
  }
 ],
 "metadata": {
  "kernelspec": {
   "display_name": "Python 3 (ipykernel)",
   "language": "python",
   "name": "python3"
  },
  "language_info": {
   "codemirror_mode": {
    "name": "ipython",
    "version": 3
   },
   "file_extension": ".py",
   "mimetype": "text/x-python",
   "name": "python",
   "nbconvert_exporter": "python",
   "pygments_lexer": "ipython3",
   "version": "3.9.13"
  }
 },
 "nbformat": 4,
 "nbformat_minor": 5
}
