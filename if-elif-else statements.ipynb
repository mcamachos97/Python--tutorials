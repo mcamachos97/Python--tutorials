{
 "cells": [
  {
   "cell_type": "markdown",
   "id": "e3d87d31",
   "metadata": {},
   "source": [
    "## if - Elif - Else Statments"
   ]
  },
  {
   "cell_type": "code",
   "execution_count": 1,
   "id": "5194bf7a",
   "metadata": {},
   "outputs": [
    {
     "name": "stdout",
     "output_type": "stream",
     "text": [
      "funciona\n"
     ]
    }
   ],
   "source": [
    "if 47 > 35:\n",
    "    print('funciona')"
   ]
  },
  {
   "cell_type": "code",
   "execution_count": 3,
   "id": "2ea2d86d",
   "metadata": {},
   "outputs": [
    {
     "name": "stdout",
     "output_type": "stream",
     "text": [
      "No funciona..\n"
     ]
    }
   ],
   "source": [
    "if 47 < 35:\n",
    "    print('funciona')\n",
    "else:\n",
    "    print('No funciona..')"
   ]
  },
  {
   "cell_type": "code",
   "execution_count": 5,
   "id": "d0e78e5f",
   "metadata": {},
   "outputs": [
    {
     "name": "stdout",
     "output_type": "stream",
     "text": [
      "elif funciona!\n"
     ]
    }
   ],
   "source": [
    "if 47 < 35:\n",
    "    print('funciona')\n",
    "elif  47 < 50:\n",
    "    print('elif funciona!')\n",
    "else:\n",
    "    print('No funciona..')"
   ]
  },
  {
   "cell_type": "code",
   "execution_count": 9,
   "id": "1177000a",
   "metadata": {},
   "outputs": [
    {
     "name": "stdout",
     "output_type": "stream",
     "text": [
      "elif  4 funciona!\n"
     ]
    }
   ],
   "source": [
    "if 47 < 35:\n",
    "    print('funciona')\n",
    "elif  47 < 30:\n",
    "    print('elif funciona!')\n",
    "elif  47 < 45:\n",
    "    print('elif funciona!')\n",
    "elif  47 < 38:\n",
    "    print('elif 2 funciona!')\n",
    "elif  47 < 20:\n",
    "    print('elif 3 funciona!')\n",
    "elif  47 < 50:\n",
    "    print('elif  4 funciona!')\n",
    "else:\n",
    "    print('No funciona..')"
   ]
  },
  {
   "cell_type": "code",
   "execution_count": 10,
   "id": "5ce0666b",
   "metadata": {},
   "outputs": [
    {
     "name": "stdout",
     "output_type": "stream",
     "text": [
      "No es verdadero\n"
     ]
    }
   ],
   "source": [
    "print ('Es verdaadero') if 10 < 4 else print ('No es verdadero')"
   ]
  },
  {
   "cell_type": "code",
   "execution_count": 11,
   "id": "b81ff9ab",
   "metadata": {},
   "outputs": [
    {
     "name": "stdout",
     "output_type": "stream",
     "text": [
      "funciona\n",
      "if anidado funciona\n"
     ]
    }
   ],
   "source": [
    "if 47 < 35 or 13 > 11:\n",
    "    print('funciona')\n",
    "    if 21 > 10:\n",
    "        print('if anidado funciona')\n",
    "elif  47 < 30:\n",
    "    print('elif funciona!')\n",
    "elif  47 < 45:\n",
    "    print('elif funciona!')\n",
    "elif  47 < 38:\n",
    "    print('elif 2 funciona!')\n",
    "elif  47 < 20:\n",
    "    print('elif 3 funciona!')\n",
    "elif  47 < 50:\n",
    "    print('elif  4 funciona!')\n",
    "else:\n",
    "    print('No funciona..')"
   ]
  },
  {
   "cell_type": "code",
   "execution_count": null,
   "id": "92edc936",
   "metadata": {},
   "outputs": [],
   "source": []
  },
  {
   "cell_type": "code",
   "execution_count": null,
   "id": "6c48eca9",
   "metadata": {},
   "outputs": [],
   "source": []
  }
 ],
 "metadata": {
  "kernelspec": {
   "display_name": "Python 3 (ipykernel)",
   "language": "python",
   "name": "python3"
  },
  "language_info": {
   "codemirror_mode": {
    "name": "ipython",
    "version": 3
   },
   "file_extension": ".py",
   "mimetype": "text/x-python",
   "name": "python",
   "nbconvert_exporter": "python",
   "pygments_lexer": "ipython3",
   "version": "3.9.13"
  }
 },
 "nbformat": 4,
 "nbformat_minor": 5
}
