{
 "cells": [
  {
   "cell_type": "markdown",
   "id": "13f001d2",
   "metadata": {},
   "source": [
    "# Operadores logicos "
   ]
  },
  {
   "cell_type": "code",
   "execution_count": 1,
   "id": "154f28a0",
   "metadata": {},
   "outputs": [
    {
     "data": {
      "text/plain": [
       "True"
      ]
     },
     "execution_count": 1,
     "metadata": {},
     "output_type": "execute_result"
    }
   ],
   "source": [
    " 15 == 15"
   ]
  },
  {
   "cell_type": "code",
   "execution_count": 2,
   "id": "f90f98df",
   "metadata": {},
   "outputs": [
    {
     "data": {
      "text/plain": [
       "False"
      ]
     },
     "execution_count": 2,
     "metadata": {},
     "output_type": "execute_result"
    }
   ],
   "source": [
    "15 ==20"
   ]
  },
  {
   "cell_type": "code",
   "execution_count": 3,
   "id": "7bc305d0",
   "metadata": {},
   "outputs": [
    {
     "data": {
      "text/plain": [
       "True"
      ]
     },
     "execution_count": 3,
     "metadata": {},
     "output_type": "execute_result"
    }
   ],
   "source": [
    "10 !=50"
   ]
  },
  {
   "cell_type": "code",
   "execution_count": 4,
   "id": "9d8c38f0",
   "metadata": {},
   "outputs": [
    {
     "data": {
      "text/plain": [
       "False"
      ]
     },
     "execution_count": 4,
     "metadata": {},
     "output_type": "execute_result"
    }
   ],
   "source": [
    "'Fresa' == 'Chocolate'"
   ]
  },
  {
   "cell_type": "code",
   "execution_count": 5,
   "id": "61f65e92",
   "metadata": {},
   "outputs": [
    {
     "data": {
      "text/plain": [
       "False"
      ]
     },
     "execution_count": 5,
     "metadata": {},
     "output_type": "execute_result"
    }
   ],
   "source": [
    "x = 'Chocolate'\n",
    "y= 'Fresa'\n",
    "x ==y"
   ]
  },
  {
   "cell_type": "code",
   "execution_count": 6,
   "id": "877a2f49",
   "metadata": {},
   "outputs": [
    {
     "data": {
      "text/plain": [
       "True"
      ]
     },
     "execution_count": 6,
     "metadata": {},
     "output_type": "execute_result"
    }
   ],
   "source": [
    "x != y"
   ]
  },
  {
   "cell_type": "markdown",
   "id": "12f959d0",
   "metadata": {},
   "source": [
    "## Operadores de comparacion AND NOT y OR"
   ]
  },
  {
   "cell_type": "markdown",
   "id": "da8c9016",
   "metadata": {},
   "source": [
    "### AND"
   ]
  },
  {
   "cell_type": "code",
   "execution_count": 9,
   "id": "a3fd61bb",
   "metadata": {},
   "outputs": [
    {
     "data": {
      "text/plain": [
       "True"
      ]
     },
     "execution_count": 9,
     "metadata": {},
     "output_type": "execute_result"
    }
   ],
   "source": [
    "(30 >15) and (18 > 16)"
   ]
  },
  {
   "cell_type": "code",
   "execution_count": 10,
   "id": "0630c742",
   "metadata": {},
   "outputs": [
    {
     "data": {
      "text/plain": [
       "False"
      ]
     },
     "execution_count": 10,
     "metadata": {},
     "output_type": "execute_result"
    }
   ],
   "source": [
    "(7 >15) and (18 > 16)"
   ]
  },
  {
   "cell_type": "markdown",
   "id": "cda81a4f",
   "metadata": {},
   "source": [
    "### OR"
   ]
  },
  {
   "cell_type": "code",
   "execution_count": 11,
   "id": "b5eea936",
   "metadata": {},
   "outputs": [
    {
     "data": {
      "text/plain": [
       "True"
      ]
     },
     "execution_count": 11,
     "metadata": {},
     "output_type": "execute_result"
    }
   ],
   "source": [
    "(47 < 50) or (27 > 50)"
   ]
  },
  {
   "cell_type": "code",
   "execution_count": 12,
   "id": "0f276735",
   "metadata": {},
   "outputs": [
    {
     "data": {
      "text/plain": [
       "False"
      ]
     },
     "execution_count": 12,
     "metadata": {},
     "output_type": "execute_result"
    }
   ],
   "source": [
    "(30 <15) or (18 < 16)"
   ]
  },
  {
   "cell_type": "markdown",
   "id": "8bc6a578",
   "metadata": {},
   "source": [
    "### NOT"
   ]
  },
  {
   "cell_type": "code",
   "execution_count": 13,
   "id": "c88bc7a4",
   "metadata": {},
   "outputs": [
    {
     "data": {
      "text/plain": [
       "False"
      ]
     },
     "execution_count": 13,
     "metadata": {},
     "output_type": "execute_result"
    }
   ],
   "source": [
    "not (7 > 3)"
   ]
  },
  {
   "cell_type": "markdown",
   "id": "40d6e056",
   "metadata": {},
   "source": [
    "## Operadores IN y NOT IN"
   ]
  },
  {
   "cell_type": "code",
   "execution_count": 14,
   "id": "25b8ca4c",
   "metadata": {},
   "outputs": [
    {
     "data": {
      "text/plain": [
       "True"
      ]
     },
     "execution_count": 14,
     "metadata": {},
     "output_type": "execute_result"
    }
   ],
   "source": [
    "pizza = 'Me gusta la pizza de pepperoni'\n",
    "'pepperoni' in pizza"
   ]
  },
  {
   "cell_type": "code",
   "execution_count": 15,
   "id": "8a4d4f08",
   "metadata": {},
   "outputs": [
    {
     "data": {
      "text/plain": [
       "True"
      ]
     },
     "execution_count": 15,
     "metadata": {},
     "output_type": "execute_result"
    }
   ],
   "source": [
    "numeros = [1,2,3,4,5]\n",
    "4 in numeros"
   ]
  },
  {
   "cell_type": "code",
   "execution_count": 16,
   "id": "20d62050",
   "metadata": {},
   "outputs": [
    {
     "data": {
      "text/plain": [
       "True"
      ]
     },
     "execution_count": 16,
     "metadata": {},
     "output_type": "execute_result"
    }
   ],
   "source": [
    "numeros = [1,2,3,4,5]\n",
    "9 not in numeros"
   ]
  },
  {
   "cell_type": "code",
   "execution_count": null,
   "id": "4b928462",
   "metadata": {},
   "outputs": [],
   "source": []
  },
  {
   "cell_type": "code",
   "execution_count": null,
   "id": "cc7879f0",
   "metadata": {},
   "outputs": [],
   "source": []
  },
  {
   "cell_type": "code",
   "execution_count": null,
   "id": "34f9cf6a",
   "metadata": {},
   "outputs": [],
   "source": []
  },
  {
   "cell_type": "code",
   "execution_count": null,
   "id": "dc52f664",
   "metadata": {},
   "outputs": [],
   "source": []
  },
  {
   "cell_type": "code",
   "execution_count": null,
   "id": "249c1284",
   "metadata": {},
   "outputs": [],
   "source": []
  }
 ],
 "metadata": {
  "kernelspec": {
   "display_name": "Python 3 (ipykernel)",
   "language": "python",
   "name": "python3"
  },
  "language_info": {
   "codemirror_mode": {
    "name": "ipython",
    "version": 3
   },
   "file_extension": ".py",
   "mimetype": "text/x-python",
   "name": "python",
   "nbconvert_exporter": "python",
   "pygments_lexer": "ipython3",
   "version": "3.9.13"
  }
 },
 "nbformat": 4,
 "nbformat_minor": 5
}
