{
 "cells": [
  {
   "cell_type": "markdown",
   "id": "23b36911",
   "metadata": {},
   "source": [
    "# Variables in Python"
   ]
  },
  {
   "cell_type": "code",
   "execution_count": 1,
   "id": "df809d57",
   "metadata": {},
   "outputs": [
    {
     "name": "stdout",
     "output_type": "stream",
     "text": [
      "22\n"
     ]
    }
   ],
   "source": [
    "x = 22\n",
    "print (x)"
   ]
  },
  {
   "cell_type": "code",
   "execution_count": 2,
   "id": "a19cc456",
   "metadata": {},
   "outputs": [
    {
     "data": {
      "text/plain": [
       "int"
      ]
     },
     "execution_count": 2,
     "metadata": {},
     "output_type": "execute_result"
    }
   ],
   "source": [
    "type (x)"
   ]
  },
  {
   "cell_type": "code",
   "execution_count": 3,
   "id": "aa15c1ba",
   "metadata": {},
   "outputs": [
    {
     "name": "stdout",
     "output_type": "stream",
     "text": [
      "Leche con chocomilk\n"
     ]
    }
   ],
   "source": [
    "y = \"Leche con chocomilk\"\n",
    "print (y)"
   ]
  },
  {
   "cell_type": "code",
   "execution_count": 4,
   "id": "c39c5dd7",
   "metadata": {},
   "outputs": [
    {
     "data": {
      "text/plain": [
       "str"
      ]
     },
     "execution_count": 4,
     "metadata": {},
     "output_type": "execute_result"
    }
   ],
   "source": [
    "type(y)"
   ]
  },
  {
   "cell_type": "code",
   "execution_count": 8,
   "id": "d5ace7ac",
   "metadata": {},
   "outputs": [
    {
     "name": "stdout",
     "output_type": "stream",
     "text": [
      "Nesquick\n",
      "Chocomilk\n"
     ]
    }
   ],
   "source": [
    "y= \"Nesquick\"\n",
    "Y= \"Chocomilk\"\n",
    "print (y)\n",
    "print (Y)"
   ]
  },
  {
   "cell_type": "code",
   "execution_count": 10,
   "id": "580b289a",
   "metadata": {},
   "outputs": [
    {
     "name": "stdout",
     "output_type": "stream",
     "text": [
      "Chocomilk\n",
      "Nesquick\n",
      "Colacao\n"
     ]
    }
   ],
   "source": [
    "x,y,z = \"Chocomilk\",\"Nesquick\",\"Colacao\"\n",
    "print (x)\n",
    "print (y)\n",
    "print (z)"
   ]
  },
  {
   "cell_type": "code",
   "execution_count": 11,
   "id": "ffbc32fc",
   "metadata": {},
   "outputs": [
    {
     "name": "stdout",
     "output_type": "stream",
     "text": [
      "Chocolates en polvo\n",
      "Chocolates en polvo\n",
      "Chocolates en polvo\n"
     ]
    }
   ],
   "source": [
    "x = y = z = \"Chocolates en polvo\"\n",
    "print (x)\n",
    "print (y)\n",
    "print (z)"
   ]
  },
  {
   "cell_type": "markdown",
   "id": "5a43754c",
   "metadata": {},
   "source": [
    "## Hacer una lista\n"
   ]
  },
  {
   "cell_type": "code",
   "execution_count": 12,
   "id": "05ff39d2",
   "metadata": {},
   "outputs": [
    {
     "name": "stdout",
     "output_type": "stream",
     "text": [
      "Chocomilk\n",
      "Nesquick\n",
      "Colacao\n"
     ]
    }
   ],
   "source": [
    "Chocolates = [\"Chocomilk\",\"Nesquick\",\"Colacao\"]\n",
    "x,y,z = Chocolates\n",
    "print (x)\n",
    "print (y)\n",
    "print (z)"
   ]
  },
  {
   "cell_type": "markdown",
   "id": "6aeb3e0e",
   "metadata": {},
   "source": [
    "## Maneras de escribir variables"
   ]
  },
  {
   "cell_type": "code",
   "execution_count": null,
   "id": "71633269",
   "metadata": {},
   "outputs": [],
   "source": [
    "# Camel case\n",
    "\n",
    "# Test Variable Case\n",
    "\n",
    "testVariableCase= \"Vainilla\""
   ]
  },
  {
   "cell_type": "code",
   "execution_count": null,
   "id": "38296fe3",
   "metadata": {},
   "outputs": [],
   "source": [
    "# Pascal case\n",
    "\n",
    "# Test Variable Case\n",
    "\n",
    "TestVariableCase= \"Vainilla\""
   ]
  },
  {
   "cell_type": "code",
   "execution_count": null,
   "id": "faa57f13",
   "metadata": {},
   "outputs": [],
   "source": [
    "# Snake case\n",
    "\n",
    "# Test Variable Case\n",
    "\n",
    "test_variable_case= \"Vainilla\""
   ]
  },
  {
   "cell_type": "markdown",
   "id": "84441ace",
   "metadata": {},
   "source": [
    "## Ejemplos"
   ]
  },
  {
   "cell_type": "code",
   "execution_count": null,
   "id": "110f8b15",
   "metadata": {},
   "outputs": [],
   "source": [
    "testvar = \"Vainilla\"\n",
    "test_var = \"Vainilla\"\n",
    "_test_var = \"Vainilla\"\n",
    "testVar = \"Vainilla\"\n",
    "TestVar = \"Vainilla\"\n",
    "testvar2"
   ]
  },
  {
   "cell_type": "markdown",
   "id": "ef10c45a",
   "metadata": {},
   "source": [
    "## Ejemplos que no sirven"
   ]
  },
  {
   "cell_type": "code",
   "execution_count": 14,
   "id": "f4b7304b",
   "metadata": {},
   "outputs": [
    {
     "ename": "SyntaxError",
     "evalue": "invalid syntax (2082355036.py, line 1)",
     "output_type": "error",
     "traceback": [
      "\u001b[0;36m  File \u001b[0;32m\"/var/folders/d0/4ngns4x93717gs85yt5cmss40000gn/T/ipykernel_18797/2082355036.py\"\u001b[0;36m, line \u001b[0;32m1\u001b[0m\n\u001b[0;31m    2testvar = \"Vainilla\"\u001b[0m\n\u001b[0m     ^\u001b[0m\n\u001b[0;31mSyntaxError\u001b[0m\u001b[0;31m:\u001b[0m invalid syntax\n"
     ]
    }
   ],
   "source": [
    "2testvar = \"Vainilla\"\n",
    "test-Var2= \"Vainilla\"\n",
    "test Var2= \"Vainilla\"\n",
    "test,Var2= \"Vainilla\""
   ]
  },
  {
   "cell_type": "markdown",
   "id": "2e997d20",
   "metadata": {},
   "source": [
    "## Variables compuestas (str + str) o (int +int)"
   ]
  },
  {
   "cell_type": "code",
   "execution_count": 16,
   "id": "b1de87ab",
   "metadata": {},
   "outputs": [
    {
     "name": "stdout",
     "output_type": "stream",
     "text": [
      "chocomilk es mi favorito.\n"
     ]
    }
   ],
   "source": [
    "x = \"chocomilk es mi favorito\" + \".\"\n",
    "print (x)"
   ]
  },
  {
   "cell_type": "code",
   "execution_count": 17,
   "id": "1acf50fc",
   "metadata": {},
   "outputs": [
    {
     "name": "stdout",
     "output_type": "stream",
     "text": [
      "25\n"
     ]
    }
   ],
   "source": [
    "y = 10+ 30 - 15\n",
    "print (y)"
   ]
  },
  {
   "cell_type": "code",
   "execution_count": 18,
   "id": "a1fa31cf",
   "metadata": {},
   "outputs": [
    {
     "name": "stdout",
     "output_type": "stream",
     "text": [
      "chocomilk es mi favorito.\n"
     ]
    }
   ],
   "source": [
    "x = \"chocomilk\"\n",
    "y = \" es mi\"\n",
    "z = \" favorito.\"\n",
    "print (x+y+z)"
   ]
  },
  {
   "cell_type": "code",
   "execution_count": 19,
   "id": "360f4bbd",
   "metadata": {},
   "outputs": [
    {
     "name": "stdout",
     "output_type": "stream",
     "text": [
      "25\n"
     ]
    }
   ],
   "source": [
    "x = 10\n",
    "y = 30\n",
    "z = 15\n",
    "print (x+y-z)"
   ]
  },
  {
   "cell_type": "code",
   "execution_count": 22,
   "id": "0be11e94",
   "metadata": {},
   "outputs": [
    {
     "name": "stdout",
     "output_type": "stream",
     "text": [
      "3 chocomilks porfavor.\n"
     ]
    }
   ],
   "source": [
    "x = 3\n",
    "y = \"chocomilks\"\n",
    "z = \"porfavor.\"\n",
    "print (x,y,z)"
   ]
  }
 ],
 "metadata": {
  "kernelspec": {
   "display_name": "Python 3 (ipykernel)",
   "language": "python",
   "name": "python3"
  },
  "language_info": {
   "codemirror_mode": {
    "name": "ipython",
    "version": 3
   },
   "file_extension": ".py",
   "mimetype": "text/x-python",
   "name": "python",
   "nbconvert_exporter": "python",
   "pygments_lexer": "ipython3",
   "version": "3.9.13"
  }
 },
 "nbformat": 4,
 "nbformat_minor": 5
}
