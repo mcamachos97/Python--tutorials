{
 "cells": [
  {
   "cell_type": "markdown",
   "id": "e18aa0f9",
   "metadata": {},
   "source": [
    "# For loops"
   ]
  },
  {
   "cell_type": "code",
   "execution_count": 4,
   "id": "94f4a78b",
   "metadata": {},
   "outputs": [],
   "source": [
    "enteros = [1,2,3,4,5,6]"
   ]
  },
  {
   "cell_type": "code",
   "execution_count": 5,
   "id": "f9e79f69",
   "metadata": {},
   "outputs": [
    {
     "name": "stdout",
     "output_type": "stream",
     "text": [
      "1\n",
      "2\n",
      "3\n",
      "4\n",
      "5\n",
      "6\n"
     ]
    }
   ],
   "source": [
    "for numeros in enteros:\n",
    "    print(numeros)"
   ]
  },
  {
   "cell_type": "code",
   "execution_count": 6,
   "id": "b11a19d0",
   "metadata": {},
   "outputs": [
    {
     "name": "stdout",
     "output_type": "stream",
     "text": [
      "siuuu\n",
      "siuuu\n",
      "siuuu\n",
      "siuuu\n",
      "siuuu\n",
      "siuuu\n"
     ]
    }
   ],
   "source": [
    "for numeros in enteros:\n",
    "    print('siuuu')"
   ]
  },
  {
   "cell_type": "code",
   "execution_count": 7,
   "id": "381ce657",
   "metadata": {},
   "outputs": [
    {
     "name": "stdout",
     "output_type": "stream",
     "text": [
      "2\n",
      "1\n",
      "4\n",
      "4\n",
      "6\n",
      "9\n",
      "8\n",
      "16\n",
      "10\n",
      "25\n",
      "12\n",
      "36\n"
     ]
    }
   ],
   "source": [
    "for pasta in enteros:\n",
    "    print(pasta + pasta)\n",
    "    print(pasta * pasta)"
   ]
  },
  {
   "cell_type": "code",
   "execution_count": 8,
   "id": "7790dae3",
   "metadata": {},
   "outputs": [],
   "source": [
    "helados_dict = {'nombre': 'Miguel Camacho', 'consumo semanal': 6, 'sabores favoritos': ['chicle', 'chocolate']}"
   ]
  },
  {
   "cell_type": "code",
   "execution_count": 9,
   "id": "88f631ec",
   "metadata": {},
   "outputs": [
    {
     "name": "stdout",
     "output_type": "stream",
     "text": [
      "Miguel Camacho\n",
      "6\n",
      "['chicle', 'chocolate']\n"
     ]
    }
   ],
   "source": [
    "for helados in helados_dict.values():\n",
    "    print(helados)"
   ]
  },
  {
   "cell_type": "code",
   "execution_count": 11,
   "id": "782dc237",
   "metadata": {},
   "outputs": [
    {
     "name": "stdout",
     "output_type": "stream",
     "text": [
      "nombre  -> Miguel Camacho\n",
      "consumo semanal  -> 6\n",
      "sabores favoritos  -> ['chicle', 'chocolate']\n"
     ]
    }
   ],
   "source": [
    "for key, value in helados_dict.items():\n",
    "    print(key,' ->',value)"
   ]
  },
  {
   "cell_type": "markdown",
   "id": "78c0e74c",
   "metadata": {},
   "source": [
    "## Nested For Loops"
   ]
  },
  {
   "cell_type": "code",
   "execution_count": 4,
   "id": "9c399922",
   "metadata": {},
   "outputs": [],
   "source": [
    "sabores = ['Oreo', 'Fresa', 'Chocolate','Galletas Mariaas']\n",
    "toppings = ['Granola','Chocochispas','Malvaviscos','Zucaritas']"
   ]
  },
  {
   "cell_type": "code",
   "execution_count": 5,
   "id": "65a4dc38",
   "metadata": {},
   "outputs": [
    {
     "name": "stdout",
     "output_type": "stream",
     "text": [
      "Oreo con topping de Granola\n",
      "Oreo con topping de Chocochispas\n",
      "Oreo con topping de Malvaviscos\n",
      "Oreo con topping de Zucaritas\n",
      "Fresa con topping de Granola\n",
      "Fresa con topping de Chocochispas\n",
      "Fresa con topping de Malvaviscos\n",
      "Fresa con topping de Zucaritas\n",
      "Chocolate con topping de Granola\n",
      "Chocolate con topping de Chocochispas\n",
      "Chocolate con topping de Malvaviscos\n",
      "Chocolate con topping de Zucaritas\n",
      "Galletas Mariaas con topping de Granola\n",
      "Galletas Mariaas con topping de Chocochispas\n",
      "Galletas Mariaas con topping de Malvaviscos\n",
      "Galletas Mariaas con topping de Zucaritas\n"
     ]
    }
   ],
   "source": [
    "for x in sabores:\n",
    "    for y in toppings:\n",
    "        print(x ,'con topping de', y)"
   ]
  },
  {
   "cell_type": "code",
   "execution_count": null,
   "id": "7aff0177",
   "metadata": {},
   "outputs": [],
   "source": []
  },
  {
   "cell_type": "code",
   "execution_count": null,
   "id": "58590b92",
   "metadata": {},
   "outputs": [],
   "source": []
  }
 ],
 "metadata": {
  "kernelspec": {
   "display_name": "Python 3 (ipykernel)",
   "language": "python",
   "name": "python3"
  },
  "language_info": {
   "codemirror_mode": {
    "name": "ipython",
    "version": 3
   },
   "file_extension": ".py",
   "mimetype": "text/x-python",
   "name": "python",
   "nbconvert_exporter": "python",
   "pygments_lexer": "ipython3",
   "version": "3.9.13"
  }
 },
 "nbformat": 4,
 "nbformat_minor": 5
}
